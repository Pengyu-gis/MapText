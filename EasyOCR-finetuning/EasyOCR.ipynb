{
  "cells": [
    {
      "cell_type": "markdown",
      "metadata": {
        "id": "view-in-github",
        "colab_type": "text"
      },
      "source": [
        "<a href=\"https://colab.research.google.com/github/Pengyu-gis/MapText/blob/main/EasyOCR-finetuning/EasyOCR.ipynb\" target=\"_parent\"><img src=\"https://colab.research.google.com/assets/colab-badge.svg\" alt=\"Open In Colab\"/></a>"
      ]
    },
    {
      "cell_type": "code",
      "execution_count": null,
      "metadata": {
        "colab": {
          "base_uri": "https://localhost:8080/"
        },
        "id": "-9giH_LvMzUV",
        "outputId": "f70d46b7-550c-4b3f-d89e-fa1a1011d794"
      },
      "outputs": [
        {
          "output_type": "stream",
          "name": "stdout",
          "text": [
            "Mounted at /content/drive\n"
          ]
        }
      ],
      "source": [
        "# !wget https://zenodo.org/records/10776183/files/test.zip\n",
        "from google.colab import drive\n",
        "drive.mount('/content/drive')"
      ]
    },
    {
      "cell_type": "code",
      "execution_count": null,
      "metadata": {
        "colab": {
          "base_uri": "https://localhost:8080/"
        },
        "id": "EgNwO16sM5H3",
        "outputId": "96bfab67-5307-4912-d43d-405a10dd46aa"
      },
      "outputs": [
        {
          "output_type": "stream",
          "name": "stdout",
          "text": [
            "Archive:  /content/drive/MyDrive/MapText/val.zip\n",
            "  inflating: maptext_data/rumsey/val/8819000_h2_w6.png  \n",
            "  inflating: maptext_data/rumsey/val/8826002_h4_w5.png  \n",
            "  inflating: maptext_data/rumsey/val/8831000_h3_w4.png  \n",
            "  inflating: maptext_data/rumsey/val/8880003_h5_w5.png  \n",
            "  inflating: maptext_data/rumsey/val/8883002_h11_w14.png  \n",
            "  inflating: maptext_data/rumsey/val/8915000_h2_w3.png  \n",
            "  inflating: maptext_data/rumsey/val/8926002_h3_w2.png  \n",
            "  inflating: maptext_data/rumsey/val/9016003_h4_w4.png  \n",
            "  inflating: maptext_data/rumsey/val/9016007_h13_w9.png  \n",
            "  inflating: maptext_data/rumsey/val/9034002_h10_w16.png  \n",
            "  inflating: maptext_data/rumsey/val/9035000_h5_w12.png  \n",
            "  inflating: maptext_data/rumsey/val/9053003_h6_w6.png  \n",
            "  inflating: maptext_data/rumsey/val/9094002_h5_w10.png  \n",
            "  inflating: maptext_data/rumsey/val/9096002_h4_w8.png  \n",
            "  inflating: maptext_data/rumsey/val/9103002_h2_w6.png  \n",
            "  inflating: maptext_data/rumsey/val/9105002_h2_w6.png  \n",
            "  inflating: maptext_data/rumsey/val/9156000_h13_w4.png  \n",
            "  inflating: maptext_data/rumsey/val/9173000_h23_w3.png  \n",
            "  inflating: maptext_data/rumsey/val/9191003_h7_w5.png  \n",
            "  inflating: maptext_data/rumsey/val/9255000_h10_w6.png  \n",
            "  inflating: maptext_data/rumsey/val/9260000_h14_w4.png  \n",
            "  inflating: maptext_data/rumsey/val/9267000_h10_w5.png  \n",
            "  inflating: maptext_data/rumsey/val/9309000_h8_w11.png  \n",
            "  inflating: maptext_data/rumsey/val/9361000_h5_w12.png  \n",
            "  inflating: maptext_data/rumsey/val/9526003_h5_w11.png  \n",
            "  inflating: maptext_data/rumsey/val/9530001_h5_w11.png  \n",
            "  inflating: maptext_data/rumsey/val/9530002_h8_w10.png  \n",
            "  inflating: maptext_data/rumsey/val/9532003_h6_w7.png  \n",
            "  inflating: maptext_data/rumsey/val/9534006_h3_w2.png  \n",
            "  inflating: maptext_data/rumsey/val/9610001_h2_w3.png  \n",
            "  inflating: maptext_data/rumsey/val/9614003_h3_w9.png  \n",
            "  inflating: maptext_data/rumsey/val/9615000_h8_w6.png  \n",
            "  inflating: maptext_data/rumsey/val/9619000_h5_w6.png  \n",
            "  inflating: maptext_data/rumsey/val/9629002_h3_w7.png  \n",
            "  inflating: maptext_data/rumsey/val/9643001_h3_w8.png  \n",
            "  inflating: maptext_data/rumsey/val/9685000_h4_w3.png  \n",
            "  inflating: maptext_data/rumsey/val/9687122_h2_w2.png  \n",
            "  inflating: maptext_data/rumsey/val/9731011_h2_w2.png  \n",
            "  inflating: maptext_data/rumsey/val/9733049_h4_w8.png  \n",
            "  inflating: maptext_data/rumsey/val/9734118_h3_w7.png  \n"
          ]
        }
      ],
      "source": [
        "# !unzip test.zip\n",
        "\n",
        "!unzip /content/drive/MyDrive/MapText/val.zip -d maptext_data"
      ]
    },
    {
      "cell_type": "code",
      "execution_count": null,
      "metadata": {
        "colab": {
          "base_uri": "https://localhost:8080/"
        },
        "id": "JlwOV3Z8M7Fa",
        "outputId": "1aed3257-946f-48fd-c236-a5e991fb72bb"
      },
      "outputs": [
        {
          "name": "stdout",
          "output_type": "stream",
          "text": [
            "Mounted at /content/drive\n"
          ]
        }
      ],
      "source": [
        "# from google.colab import drive\n",
        "# drive.mount('/content/drive')\n"
      ]
    },
    {
      "cell_type": "code",
      "execution_count": null,
      "metadata": {
        "colab": {
          "base_uri": "https://localhost:8080/"
        },
        "id": "3wOd0B4TM-N5",
        "outputId": "d67b562d-98f3-45e1-8bcd-f11163625064"
      },
      "outputs": [
        {
          "output_type": "stream",
          "name": "stdout",
          "text": [
            "Collecting easyocr\n",
            "  Downloading easyocr-1.7.1-py3-none-any.whl (2.9 MB)\n",
            "\u001b[2K     \u001b[90m━━━━━━━━━━━━━━━━━━━━━━━━━━━━━━━━━━━━━━━━\u001b[0m \u001b[32m2.9/2.9 MB\u001b[0m \u001b[31m17.6 MB/s\u001b[0m eta \u001b[36m0:00:00\u001b[0m\n",
            "\u001b[?25hRequirement already satisfied: torch in /usr/local/lib/python3.10/dist-packages (from easyocr) (2.2.1+cu121)\n",
            "Requirement already satisfied: torchvision>=0.5 in /usr/local/lib/python3.10/dist-packages (from easyocr) (0.17.1+cu121)\n",
            "Requirement already satisfied: opencv-python-headless in /usr/local/lib/python3.10/dist-packages (from easyocr) (4.9.0.80)\n",
            "Requirement already satisfied: scipy in /usr/local/lib/python3.10/dist-packages (from easyocr) (1.11.4)\n",
            "Requirement already satisfied: numpy in /usr/local/lib/python3.10/dist-packages (from easyocr) (1.25.2)\n",
            "Requirement already satisfied: Pillow in /usr/local/lib/python3.10/dist-packages (from easyocr) (9.4.0)\n",
            "Requirement already satisfied: scikit-image in /usr/local/lib/python3.10/dist-packages (from easyocr) (0.19.3)\n",
            "Collecting python-bidi (from easyocr)\n",
            "  Downloading python_bidi-0.4.2-py2.py3-none-any.whl (30 kB)\n",
            "Requirement already satisfied: PyYAML in /usr/local/lib/python3.10/dist-packages (from easyocr) (6.0.1)\n",
            "Requirement already satisfied: Shapely in /usr/local/lib/python3.10/dist-packages (from easyocr) (2.0.4)\n",
            "Collecting pyclipper (from easyocr)\n",
            "  Downloading pyclipper-1.3.0.post5-cp310-cp310-manylinux_2_12_x86_64.manylinux2010_x86_64.whl (908 kB)\n",
            "\u001b[2K     \u001b[90m━━━━━━━━━━━━━━━━━━━━━━━━━━━━━━━━━━━━━━━━\u001b[0m \u001b[32m908.3/908.3 kB\u001b[0m \u001b[31m29.9 MB/s\u001b[0m eta \u001b[36m0:00:00\u001b[0m\n",
            "\u001b[?25hCollecting ninja (from easyocr)\n",
            "  Downloading ninja-1.11.1.1-py2.py3-none-manylinux1_x86_64.manylinux_2_5_x86_64.whl (307 kB)\n",
            "\u001b[2K     \u001b[90m━━━━━━━━━━━━━━━━━━━━━━━━━━━━━━━━━━━━━━━━\u001b[0m \u001b[32m307.2/307.2 kB\u001b[0m \u001b[31m25.6 MB/s\u001b[0m eta \u001b[36m0:00:00\u001b[0m\n",
            "\u001b[?25hRequirement already satisfied: filelock in /usr/local/lib/python3.10/dist-packages (from torch->easyocr) (3.13.4)\n",
            "Requirement already satisfied: typing-extensions>=4.8.0 in /usr/local/lib/python3.10/dist-packages (from torch->easyocr) (4.11.0)\n",
            "Requirement already satisfied: sympy in /usr/local/lib/python3.10/dist-packages (from torch->easyocr) (1.12)\n",
            "Requirement already satisfied: networkx in /usr/local/lib/python3.10/dist-packages (from torch->easyocr) (3.3)\n",
            "Requirement already satisfied: jinja2 in /usr/local/lib/python3.10/dist-packages (from torch->easyocr) (3.1.3)\n",
            "Requirement already satisfied: fsspec in /usr/local/lib/python3.10/dist-packages (from torch->easyocr) (2023.6.0)\n",
            "Collecting nvidia-cuda-nvrtc-cu12==12.1.105 (from torch->easyocr)\n",
            "  Using cached nvidia_cuda_nvrtc_cu12-12.1.105-py3-none-manylinux1_x86_64.whl (23.7 MB)\n",
            "Collecting nvidia-cuda-runtime-cu12==12.1.105 (from torch->easyocr)\n",
            "  Using cached nvidia_cuda_runtime_cu12-12.1.105-py3-none-manylinux1_x86_64.whl (823 kB)\n",
            "Collecting nvidia-cuda-cupti-cu12==12.1.105 (from torch->easyocr)\n",
            "  Using cached nvidia_cuda_cupti_cu12-12.1.105-py3-none-manylinux1_x86_64.whl (14.1 MB)\n",
            "Collecting nvidia-cudnn-cu12==8.9.2.26 (from torch->easyocr)\n",
            "  Using cached nvidia_cudnn_cu12-8.9.2.26-py3-none-manylinux1_x86_64.whl (731.7 MB)\n",
            "Collecting nvidia-cublas-cu12==12.1.3.1 (from torch->easyocr)\n",
            "  Using cached nvidia_cublas_cu12-12.1.3.1-py3-none-manylinux1_x86_64.whl (410.6 MB)\n",
            "Collecting nvidia-cufft-cu12==11.0.2.54 (from torch->easyocr)\n",
            "  Using cached nvidia_cufft_cu12-11.0.2.54-py3-none-manylinux1_x86_64.whl (121.6 MB)\n",
            "Collecting nvidia-curand-cu12==10.3.2.106 (from torch->easyocr)\n",
            "  Using cached nvidia_curand_cu12-10.3.2.106-py3-none-manylinux1_x86_64.whl (56.5 MB)\n",
            "Collecting nvidia-cusolver-cu12==11.4.5.107 (from torch->easyocr)\n",
            "  Using cached nvidia_cusolver_cu12-11.4.5.107-py3-none-manylinux1_x86_64.whl (124.2 MB)\n",
            "Collecting nvidia-cusparse-cu12==12.1.0.106 (from torch->easyocr)\n",
            "  Using cached nvidia_cusparse_cu12-12.1.0.106-py3-none-manylinux1_x86_64.whl (196.0 MB)\n",
            "Collecting nvidia-nccl-cu12==2.19.3 (from torch->easyocr)\n",
            "  Using cached nvidia_nccl_cu12-2.19.3-py3-none-manylinux1_x86_64.whl (166.0 MB)\n",
            "Collecting nvidia-nvtx-cu12==12.1.105 (from torch->easyocr)\n",
            "  Using cached nvidia_nvtx_cu12-12.1.105-py3-none-manylinux1_x86_64.whl (99 kB)\n",
            "Requirement already satisfied: triton==2.2.0 in /usr/local/lib/python3.10/dist-packages (from torch->easyocr) (2.2.0)\n",
            "Collecting nvidia-nvjitlink-cu12 (from nvidia-cusolver-cu12==11.4.5.107->torch->easyocr)\n",
            "  Using cached nvidia_nvjitlink_cu12-12.4.127-py3-none-manylinux2014_x86_64.whl (21.1 MB)\n",
            "Requirement already satisfied: six in /usr/local/lib/python3.10/dist-packages (from python-bidi->easyocr) (1.16.0)\n",
            "Requirement already satisfied: imageio>=2.4.1 in /usr/local/lib/python3.10/dist-packages (from scikit-image->easyocr) (2.31.6)\n",
            "Requirement already satisfied: tifffile>=2019.7.26 in /usr/local/lib/python3.10/dist-packages (from scikit-image->easyocr) (2024.4.18)\n",
            "Requirement already satisfied: PyWavelets>=1.1.1 in /usr/local/lib/python3.10/dist-packages (from scikit-image->easyocr) (1.6.0)\n",
            "Requirement already satisfied: packaging>=20.0 in /usr/local/lib/python3.10/dist-packages (from scikit-image->easyocr) (24.0)\n",
            "Requirement already satisfied: MarkupSafe>=2.0 in /usr/local/lib/python3.10/dist-packages (from jinja2->torch->easyocr) (2.1.5)\n",
            "Requirement already satisfied: mpmath>=0.19 in /usr/local/lib/python3.10/dist-packages (from sympy->torch->easyocr) (1.3.0)\n",
            "Installing collected packages: pyclipper, ninja, python-bidi, nvidia-nvtx-cu12, nvidia-nvjitlink-cu12, nvidia-nccl-cu12, nvidia-curand-cu12, nvidia-cufft-cu12, nvidia-cuda-runtime-cu12, nvidia-cuda-nvrtc-cu12, nvidia-cuda-cupti-cu12, nvidia-cublas-cu12, nvidia-cusparse-cu12, nvidia-cudnn-cu12, nvidia-cusolver-cu12, easyocr\n",
            "Successfully installed easyocr-1.7.1 ninja-1.11.1.1 nvidia-cublas-cu12-12.1.3.1 nvidia-cuda-cupti-cu12-12.1.105 nvidia-cuda-nvrtc-cu12-12.1.105 nvidia-cuda-runtime-cu12-12.1.105 nvidia-cudnn-cu12-8.9.2.26 nvidia-cufft-cu12-11.0.2.54 nvidia-curand-cu12-10.3.2.106 nvidia-cusolver-cu12-11.4.5.107 nvidia-cusparse-cu12-12.1.0.106 nvidia-nccl-cu12-2.19.3 nvidia-nvjitlink-cu12-12.4.127 nvidia-nvtx-cu12-12.1.105 pyclipper-1.3.0.post5 python-bidi-0.4.2\n"
          ]
        }
      ],
      "source": [
        "!pip install easyocr"
      ]
    },
    {
      "cell_type": "code",
      "execution_count": null,
      "metadata": {
        "colab": {
          "base_uri": "https://localhost:8080/"
        },
        "id": "TpjdWapTM_nJ",
        "outputId": "4f65d259-dd1d-4afc-ba56-ee505966d77f"
      },
      "outputs": [
        {
          "output_type": "stream",
          "name": "stderr",
          "text": [
            "WARNING:easyocr.easyocr:Downloading detection model, please wait. This may take several minutes depending upon your network connection.\n"
          ]
        },
        {
          "output_type": "stream",
          "name": "stdout",
          "text": [
            "Progress: |██████████████████████████████████████████████████| 100.0% Complete"
          ]
        },
        {
          "output_type": "stream",
          "name": "stderr",
          "text": [
            "WARNING:easyocr.easyocr:Downloading recognition model, please wait. This may take several minutes depending upon your network connection.\n"
          ]
        },
        {
          "output_type": "stream",
          "name": "stdout",
          "text": [
            "Progress: |██████████████████████████████████████████████████| 100.0% Complete"
          ]
        }
      ],
      "source": [
        "# 配置识别器\n",
        "import easyocr\n",
        "reader = easyocr.Reader(['en'])"
      ]
    },
    {
      "cell_type": "code",
      "execution_count": null,
      "metadata": {
        "id": "QTVrU0vcNBS9"
      },
      "outputs": [],
      "source": [
        "import cv2\n",
        "import os\n",
        "import json"
      ]
    },
    {
      "cell_type": "code",
      "execution_count": null,
      "metadata": {
        "colab": {
          "base_uri": "https://localhost:8080/"
        },
        "id": "bXBAYAUGNCPi",
        "outputId": "abc640e4-38b4-41cd-cfc2-d12c74858d56"
      },
      "outputs": [
        {
          "output_type": "stream",
          "name": "stdout",
          "text": [
            "['8819000_h2_w6.png', '8826002_h4_w5.png', '8831000_h3_w4.png', '8880003_h5_w5.png', '8883002_h11_w14.png', '8915000_h2_w3.png', '8926002_h3_w2.png', '9016003_h4_w4.png', '9016007_h13_w9.png', '9034002_h10_w16.png', '9035000_h5_w12.png', '9053003_h6_w6.png', '9094002_h5_w10.png', '9096002_h4_w8.png', '9103002_h2_w6.png', '9105002_h2_w6.png', '9156000_h13_w4.png', '9173000_h23_w3.png', '9191003_h7_w5.png', '9255000_h10_w6.png', '9260000_h14_w4.png', '9267000_h10_w5.png', '9309000_h8_w11.png', '9361000_h5_w12.png', '9526003_h5_w11.png', '9530001_h5_w11.png', '9530002_h8_w10.png', '9532003_h6_w7.png', '9534006_h3_w2.png', '9610001_h2_w3.png', '9614003_h3_w9.png', '9615000_h8_w6.png', '9619000_h5_w6.png', '9629002_h3_w7.png', '9643001_h3_w8.png', '9685000_h4_w3.png', '9687122_h2_w2.png', '9731011_h2_w2.png', '9733049_h4_w8.png', '9734118_h3_w7.png']\n"
          ]
        }
      ],
      "source": [
        "url = './maptext_data/rumsey/val/'\n",
        "\n",
        "target_file = './output/'\n",
        "text_dir = './output.json'\n",
        "\n",
        "if os.path.exists(target_file) == 0:\n",
        "    os.mkdir(target_file)\n",
        "\n",
        "# 将easyOCR生成的数据整理为题目要求的JSON格式\n",
        "def organize_data(data, image_name):\n",
        "    result = {}\n",
        "    for item in data:\n",
        "        # print(item)\n",
        "        vertices, text, _ = item\n",
        "        if image_name not in result:\n",
        "            result[image_name] = {\"image\": image_name, \"groups\": []}\n",
        "\n",
        "        # 这里暂时将每个文本视为一个独立的组，可以根据实际情况调整\n",
        "        result[image_name][\"groups\"].append(\n",
        "            [{\"vertices\": vertices, \"text\": text, \"illegible\": False, \"truncated\": False}])\n",
        "\n",
        "    return list(result.values())\n",
        "\n",
        "cnt = 0\n",
        "# 此处对图片文件夹内的图片进行列举\n",
        "path_list = os.listdir(url)\n",
        "path_list.sort()\n",
        "print(path_list)\n",
        "\n",
        "output = []"
      ]
    },
    {
      "cell_type": "code",
      "execution_count": null,
      "metadata": {
        "colab": {
          "base_uri": "https://localhost:8080/",
          "height": 211
        },
        "id": "5FRvYrczNFcR",
        "outputId": "0e5166f6-4a74-41ba-a8db-2a8ffff068e6"
      },
      "outputs": [
        {
          "ename": "FileNotFoundError",
          "evalue": "[Errno 2] No such file or directory: '/content/drive/MyDrive/MapText2024/result_easyocr/0278010_h2_w2.json'",
          "output_type": "error",
          "traceback": [
            "\u001b[0;31m---------------------------------------------------------------------------\u001b[0m",
            "\u001b[0;31mFileNotFoundError\u001b[0m                         Traceback (most recent call last)",
            "\u001b[0;32m<ipython-input-10-e90daa137a2a>\u001b[0m in \u001b[0;36m<cell line: 3>\u001b[0;34m()\u001b[0m\n\u001b[1;32m      1\u001b[0m \u001b[0;31m# 可以进行断点续连 修改url=\"\"\u001b[0m\u001b[0;34m\u001b[0m\u001b[0;34m\u001b[0m\u001b[0m\n\u001b[1;32m      2\u001b[0m \u001b[0murl\u001b[0m \u001b[0;34m=\u001b[0m \u001b[0;34m'/content/drive/MyDrive/MapText2024/result_easyocr/0278010_h2_w2.json'\u001b[0m\u001b[0;34m\u001b[0m\u001b[0;34m\u001b[0m\u001b[0m\n\u001b[0;32m----> 3\u001b[0;31m \u001b[0;32mwith\u001b[0m \u001b[0mopen\u001b[0m\u001b[0;34m(\u001b[0m\u001b[0murl\u001b[0m\u001b[0;34m,\u001b[0m \u001b[0;34m'r'\u001b[0m\u001b[0;34m)\u001b[0m \u001b[0;32mas\u001b[0m \u001b[0mf\u001b[0m\u001b[0;34m:\u001b[0m\u001b[0;34m\u001b[0m\u001b[0;34m\u001b[0m\u001b[0m\n\u001b[0m\u001b[1;32m      4\u001b[0m   \u001b[0moutput\u001b[0m \u001b[0;34m=\u001b[0m \u001b[0mjson\u001b[0m\u001b[0;34m.\u001b[0m\u001b[0mload\u001b[0m\u001b[0;34m(\u001b[0m\u001b[0mf\u001b[0m\u001b[0;34m)\u001b[0m\u001b[0;34m\u001b[0m\u001b[0;34m\u001b[0m\u001b[0m\n\u001b[1;32m      5\u001b[0m \u001b[0;31m# output 为最终提交的结果\u001b[0m\u001b[0;34m\u001b[0m\u001b[0;34m\u001b[0m\u001b[0m\n",
            "\u001b[0;31mFileNotFoundError\u001b[0m: [Errno 2] No such file or directory: '/content/drive/MyDrive/MapText2024/result_easyocr/0278010_h2_w2.json'"
          ]
        }
      ],
      "source": [
        "# 可以进行断点续连 修改url=\"\"\n",
        "url = '/content/drive/MyDrive/MapText2024/result_easyocr/0278010_h2_w2.json'\n",
        "with open(url, 'r') as f:\n",
        "  output = json.load(f)\n",
        "# output 为最终提交的结果\n",
        "print(output)"
      ]
    },
    {
      "cell_type": "code",
      "execution_count": null,
      "metadata": {
        "colab": {
          "base_uri": "https://localhost:8080/"
        },
        "id": "re3murvKNSno",
        "outputId": "29156fd3-4e0f-4c79-8255-f269ff8896c6"
      },
      "outputs": [
        {
          "output_type": "stream",
          "name": "stdout",
          "text": [
            "1\n",
            "8819000_h2_w6.png\n",
            "2\n",
            "8826002_h4_w5.png\n",
            "3\n",
            "8831000_h3_w4.png\n",
            "4\n",
            "8880003_h5_w5.png\n",
            "5\n",
            "8883002_h11_w14.png\n",
            "6\n",
            "8915000_h2_w3.png\n",
            "7\n",
            "8926002_h3_w2.png\n",
            "8\n",
            "9016003_h4_w4.png\n",
            "9\n",
            "9016007_h13_w9.png\n",
            "10\n",
            "9034002_h10_w16.png\n",
            "11\n",
            "9035000_h5_w12.png\n",
            "12\n",
            "9053003_h6_w6.png\n",
            "13\n",
            "9094002_h5_w10.png\n",
            "14\n",
            "9096002_h4_w8.png\n",
            "15\n",
            "9103002_h2_w6.png\n",
            "16\n",
            "9105002_h2_w6.png\n",
            "17\n",
            "9156000_h13_w4.png\n",
            "18\n",
            "9173000_h23_w3.png\n",
            "19\n",
            "9191003_h7_w5.png\n",
            "20\n",
            "9255000_h10_w6.png\n",
            "21\n",
            "9260000_h14_w4.png\n",
            "22\n",
            "9267000_h10_w5.png\n",
            "23\n",
            "9309000_h8_w11.png\n",
            "24\n",
            "9361000_h5_w12.png\n",
            "25\n",
            "9526003_h5_w11.png\n",
            "26\n",
            "9530001_h5_w11.png\n",
            "27\n",
            "9530002_h8_w10.png\n",
            "28\n",
            "9532003_h6_w7.png\n",
            "29\n",
            "9534006_h3_w2.png\n",
            "30\n",
            "9610001_h2_w3.png\n",
            "31\n",
            "9614003_h3_w9.png\n",
            "32\n",
            "9615000_h8_w6.png\n",
            "33\n",
            "9619000_h5_w6.png\n",
            "34\n",
            "9629002_h3_w7.png\n",
            "35\n",
            "9643001_h3_w8.png\n",
            "36\n",
            "9685000_h4_w3.png\n",
            "37\n",
            "9687122_h2_w2.png\n",
            "38\n",
            "9731011_h2_w2.png\n",
            "39\n",
            "9733049_h4_w8.png\n",
            "40\n",
            "9734118_h3_w7.png\n"
          ]
        }
      ],
      "source": [
        "# ed 需要根据断点的id进行设置\n",
        "# 最好设置到断点id-1的值\n",
        "cnt = 0\n",
        "ed = 0\n",
        "for files in path_list:\n",
        "    cnt = cnt + 1\n",
        "    if cnt < ed:\n",
        "      continue\n",
        "    print(cnt)\n",
        "    print(files)\n",
        "\n",
        "    img_dir = os.path.join(url + files)\n",
        "    # img = cv2.imread(img_dir)\n",
        "\n",
        "    ans = reader.readtext(img_dir)\n",
        "\n",
        "    # for area in ans:\n",
        "\n",
        "    #     top_left = area[0][0]\n",
        "    #     bottom_right = area[0][2]\n",
        "    #     img = cv2.rectangle(img, (int(top_left[0]), int(top_left[1])), (int(bottom_right[0]), int(bottom_right[1])), (255,0,0), 3)\n",
        "\n",
        "    target_dir = target_file + files\n",
        "    # cv2.imwrite(target_dir, img)\n",
        "\n",
        "    result = organize_data(ans, files)\n",
        "\n",
        "    output.append(result)\n",
        "    import numpy as np\n",
        "\n",
        "    class numpyEncoder(json.JSONEncoder):\n",
        "        def default(self, obj):\n",
        "            if isinstance(obj, np.integer):\n",
        "                return int(obj)\n",
        "            elif isinstance(obj, np.floating):\n",
        "                return float(obj)\n",
        "            elif isinstance(obj, np.ndarray):\n",
        "                return obj.tolist()\n",
        "            return super(numpyEncoder, self).default(obj)\n",
        "\n",
        "    output_dir = \"./\" + files.split('.')[0] + '.json'\n",
        "\n",
        "    with open(output_dir, 'w') as f:\n",
        "        json.dump(output, f, cls=numpyEncoder)\n",
        "    # 将结果移动到google drive里面\n",
        "    !mv '{output_dir}' './drive/MyDrive/MapText2024'\n"
      ]
    }
  ],
  "metadata": {
    "colab": {
      "provenance": [],
      "gpuType": "T4",
      "include_colab_link": true
    },
    "kernelspec": {
      "display_name": "Python 3",
      "name": "python3"
    },
    "language_info": {
      "name": "python"
    },
    "accelerator": "GPU"
  },
  "nbformat": 4,
  "nbformat_minor": 0
}