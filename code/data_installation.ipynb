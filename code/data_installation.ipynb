{
  "cells": [
    {
      "cell_type": "markdown",
      "metadata": {
        "id": "8OVSpYihN_Bf"
      },
      "source": [
        "# Installation Instructions"
      ]
    },
    {
      "cell_type": "code",
      "execution_count": null,
      "metadata": {
        "id": "O9cYyrWQN_Bg"
      },
      "outputs": [],
      "source": [
        "# Git pull the codes from github to your colab machine\n",
        "# You will have this message:\n",
        "    # Warning: This notebook was not authored by Google.\n",
        "        # Click RUN ANYWAY\n",
        "!gdown your_data_link #add your link\n",
        "!mv \"train.zip?download=1\" train.zip"
      ]
    },
    {
      "cell_type": "code",
      "source": [
        "!gdown your_data_link #add your link\n",
        "!mv \"val.zip?download=1\" val.zip"
      ],
      "metadata": {
        "id": "EByboIIzUwNc"
      },
      "execution_count": null,
      "outputs": []
    },
    {
      "cell_type": "code",
      "execution_count": null,
      "metadata": {
        "id": "TbYWlARRN_Bh"
      },
      "outputs": [],
      "source": [
        "# Mount Google Drive to the colab machine\n",
        "# You will have this message:\n",
        "    # Go to this URL in a browser: ---\n",
        "        # Follow the URL, sign-in to Google login\n",
        "        # ALLOW google drive to access to your google account\n",
        "        # Copy-paste the code to the notebook\n",
        "            # Enter your authorization code: ---\n",
        "from google.colab import drive\n",
        "drive.mount('/content/gdrive')\n",
        "\n",
        "# Copy github folder from colab machine to your google drive\n",
        "!cp -R /content/train.zip /content/gdrive/My\\ Drive/MapText2024\n",
        "!rm -R /content/train.zip"
      ]
    },
    {
      "cell_type": "code",
      "source": [
        "!cp -R /content/val.zip /content/gdrive/My\\ Drive/MapText2024\n",
        "!rm -R /content/val.zip"
      ],
      "metadata": {
        "id": "Su7Jy27AW3HI"
      },
      "execution_count": null,
      "outputs": []
    },
    {
      "cell_type": "code",
      "execution_count": null,
      "metadata": {
        "id": "ewBcIfQnN_Bh"
      },
      "outputs": [],
      "source": [
        "# Installation is done.\n",
        "# You can close this notebook."
      ]
    }
  ],
  "metadata": {
    "kernelspec": {
      "display_name": "Python 3",
      "language": "python",
      "name": "python3"
    },
    "language_info": {
      "codemirror_mode": {
        "name": "ipython",
        "version": 3
      },
      "file_extension": ".py",
      "mimetype": "text/x-python",
      "name": "python",
      "nbconvert_exporter": "python",
      "pygments_lexer": "ipython3",
      "version": "3.7.4"
    },
    "colab": {
      "provenance": []
    }
  },
  "nbformat": 4,
  "nbformat_minor": 0
}
