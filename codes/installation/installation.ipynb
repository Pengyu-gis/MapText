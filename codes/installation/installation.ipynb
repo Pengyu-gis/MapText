{
  "cells": [
    {
      "cell_type": "markdown",
      "metadata": {
        "id": "8OVSpYihN_Bf"
      },
      "source": [
        "# Installation Instructions"
      ]
    },
    {
      "cell_type": "code",
      "execution_count": 1,
      "metadata": {
        "id": "O9cYyrWQN_Bg",
        "outputId": "57d13eb8-be51-4274-aacd-4e18c407cc6c",
        "colab": {
          "base_uri": "https://localhost:8080/"
        }
      },
      "outputs": [
        {
          "output_type": "stream",
          "name": "stdout",
          "text": [
            "Downloading...\n",
            "From: https://zenodo.org/records/10656556/files/train.zip?download=1\n",
            "To: /content/train.zip?download=1\n",
            "100% 1.66G/1.66G [01:15<00:00, 22.0MB/s]\n"
          ]
        }
      ],
      "source": [
        "# Git pull the codes from github to your colab machine\n",
        "# You will have this message:\n",
        "    # Warning: This notebook was not authored by Google.\n",
        "        # Click RUN ANYWAY\n",
        "!gdown https://zenodo.org/records/10656556/files/train.zip?download=1\n",
        "!mv \"train.zip?download=1\" train.zip"
      ]
    },
    {
      "cell_type": "code",
      "source": [
        "!gdown https://zenodo.org/records/10656556/files/val.zip?download=1\n",
        "!mv \"val.zip?download=1\" val.zip"
      ],
      "metadata": {
        "id": "EByboIIzUwNc",
        "outputId": "4e0623ef-44d8-4d49-b40d-37145a6ec782",
        "colab": {
          "base_uri": "https://localhost:8080/"
        }
      },
      "execution_count": 7,
      "outputs": [
        {
          "output_type": "stream",
          "name": "stdout",
          "text": [
            "Downloading...\n",
            "From: https://zenodo.org/records/10656556/files/val.zip?download=1\n",
            "To: /content/val.zip?download=1\n",
            "100% 312M/312M [00:14<00:00, 22.3MB/s]\n"
          ]
        }
      ]
    },
    {
      "cell_type": "code",
      "execution_count": 8,
      "metadata": {
        "id": "TbYWlARRN_Bh",
        "outputId": "7f67dd88-045c-46f1-8655-146f678c097e",
        "colab": {
          "base_uri": "https://localhost:8080/"
        }
      },
      "outputs": [
        {
          "output_type": "stream",
          "name": "stdout",
          "text": [
            "Mounted at /content/gdrive\n"
          ]
        }
      ],
      "source": [
        "# Mount Google Drive to the colab machine\n",
        "# You will have this message:\n",
        "    # Go to this URL in a browser: ---\n",
        "        # Follow the URL, sign-in to Google login\n",
        "        # ALLOW google drive to access to your google account\n",
        "        # Copy-paste the code to the notebook\n",
        "            # Enter your authorization code: ---\n",
        "from google.colab import drive\n",
        "drive.mount('/content/gdrive')\n",
        "\n",
        "# Copy github folder from colab machine to your google drive\n",
        "!cp -R /content/train.zip /content/gdrive/My\\ Drive/MapText2024\n",
        "!rm -R /content/train.zip"
      ]
    },
    {
      "cell_type": "code",
      "source": [
        "!cp -R /content/val.zip /content/gdrive/My\\ Drive/MapText2024\n",
        "!rm -R /content/val.zip"
      ],
      "metadata": {
        "id": "Su7Jy27AW3HI",
        "outputId": "003e31c9-24d6-417b-e6b2-680b31d52937",
        "colab": {
          "base_uri": "https://localhost:8080/"
        }
      },
      "execution_count": 10,
      "outputs": [
        {
          "output_type": "stream",
          "name": "stdout",
          "text": [
            "cp: cannot stat '/content/val.zip': No such file or directory\n",
            "rm: cannot remove '/content/val.zip': No such file or directory\n"
          ]
        }
      ]
    },
    {
      "cell_type": "code",
      "execution_count": null,
      "metadata": {
        "id": "ewBcIfQnN_Bh"
      },
      "outputs": [],
      "source": [
        "# Installation is done.\n",
        "# You can close this notebook."
      ]
    }
  ],
  "metadata": {
    "kernelspec": {
      "display_name": "Python 3",
      "language": "python",
      "name": "python3"
    },
    "language_info": {
      "codemirror_mode": {
        "name": "ipython",
        "version": 3
      },
      "file_extension": ".py",
      "mimetype": "text/x-python",
      "name": "python",
      "nbconvert_exporter": "python",
      "pygments_lexer": "ipython3",
      "version": "3.7.4"
    },
    "colab": {
      "provenance": []
    }
  },
  "nbformat": 4,
  "nbformat_minor": 0
}